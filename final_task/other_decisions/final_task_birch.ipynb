{
 "cells": [
  {
   "cell_type": "code",
   "execution_count": 1,
   "metadata": {},
   "outputs": [],
   "source": [
    "import numpy as np\n",
    "import pandas as pd\n",
    "\n",
    "import matplotlib\n",
    "import matplotlib.image as img\n",
    "import matplotlib.pyplot as plt\n",
    "import seaborn as sns\n",
    "%matplotlib inline"
   ]
  },
  {
   "cell_type": "code",
   "execution_count": 2,
   "metadata": {},
   "outputs": [],
   "source": [
    "DATASET_PATH = 'C:/Temp/files/GeekBrains/ds_python_libs/final/train.csv'\n",
    "TEST_PATH = 'C:/Temp/files/GeekBrains/ds_python_libs/final/test.csv'"
   ]
  },
  {
   "cell_type": "markdown",
   "metadata": {},
   "source": [
    "**File descriptions**\n",
    "\n",
    "* train.csv - the training set\n",
    "* test.csv - the test set\n",
    "* sampleSubmission.csv - a sample submission file in the correct format\n",
    "\n",
    "**Data fields**\n",
    "* Id - идентификационный номер квартиры\n",
    "* DistrictId - идентификационный номер района\n",
    "* Rooms - количество комнат\n",
    "* Square - площадь\n",
    "* LifeSquare - жилая площадь\n",
    "* KitchenSquare - площадь кухни\n",
    "* Floor - этаж\n",
    "* HouseFloor - количество этажей в доме\n",
    "* HouseYear - год постройки дома\n",
    "* Ecology_1, Ecology_2, Ecology_3 - экологические показатели местности\n",
    "* Social_1, Social_2, Social_3 - социальные показатели местности\n",
    "* Healthcare_1, Helthcare_2 - показатели местности, связанные с охраной здоровья\n",
    "* Shops_1, Shops_2 - показатели, связанные с наличием магазинов, торговых центров\n",
    "* Price - цена квартиры"
   ]
  },
  {
   "cell_type": "markdown",
   "metadata": {},
   "source": [
    "## Read data"
   ]
  },
  {
   "cell_type": "code",
   "execution_count": 3,
   "metadata": {
    "scrolled": true
   },
   "outputs": [
    {
     "data": {
      "text/html": [
       "<div>\n",
       "<style scoped>\n",
       "    .dataframe tbody tr th:only-of-type {\n",
       "        vertical-align: middle;\n",
       "    }\n",
       "\n",
       "    .dataframe tbody tr th {\n",
       "        vertical-align: top;\n",
       "    }\n",
       "\n",
       "    .dataframe thead th {\n",
       "        text-align: right;\n",
       "    }\n",
       "</style>\n",
       "<table border=\"1\" class=\"dataframe\">\n",
       "  <thead>\n",
       "    <tr style=\"text-align: right;\">\n",
       "      <th></th>\n",
       "      <th>Id</th>\n",
       "      <th>DistrictId</th>\n",
       "      <th>Rooms</th>\n",
       "      <th>Square</th>\n",
       "      <th>LifeSquare</th>\n",
       "      <th>KitchenSquare</th>\n",
       "      <th>Floor</th>\n",
       "      <th>HouseFloor</th>\n",
       "      <th>HouseYear</th>\n",
       "      <th>Ecology_1</th>\n",
       "      <th>Ecology_2</th>\n",
       "      <th>Ecology_3</th>\n",
       "      <th>Social_1</th>\n",
       "      <th>Social_2</th>\n",
       "      <th>Social_3</th>\n",
       "      <th>Healthcare_1</th>\n",
       "      <th>Helthcare_2</th>\n",
       "      <th>Shops_1</th>\n",
       "      <th>Shops_2</th>\n",
       "      <th>Price</th>\n",
       "    </tr>\n",
       "  </thead>\n",
       "  <tbody>\n",
       "    <tr>\n",
       "      <th>0</th>\n",
       "      <td>14038</td>\n",
       "      <td>35</td>\n",
       "      <td>2.0</td>\n",
       "      <td>47.981561</td>\n",
       "      <td>29.442751</td>\n",
       "      <td>6.0</td>\n",
       "      <td>7</td>\n",
       "      <td>9.0</td>\n",
       "      <td>1969</td>\n",
       "      <td>0.089040</td>\n",
       "      <td>B</td>\n",
       "      <td>B</td>\n",
       "      <td>33</td>\n",
       "      <td>7976</td>\n",
       "      <td>5</td>\n",
       "      <td>NaN</td>\n",
       "      <td>0</td>\n",
       "      <td>11</td>\n",
       "      <td>B</td>\n",
       "      <td>184966.930730</td>\n",
       "    </tr>\n",
       "    <tr>\n",
       "      <th>1</th>\n",
       "      <td>15053</td>\n",
       "      <td>41</td>\n",
       "      <td>3.0</td>\n",
       "      <td>65.683640</td>\n",
       "      <td>40.049543</td>\n",
       "      <td>8.0</td>\n",
       "      <td>7</td>\n",
       "      <td>9.0</td>\n",
       "      <td>1978</td>\n",
       "      <td>0.000070</td>\n",
       "      <td>B</td>\n",
       "      <td>B</td>\n",
       "      <td>46</td>\n",
       "      <td>10309</td>\n",
       "      <td>1</td>\n",
       "      <td>240.0</td>\n",
       "      <td>1</td>\n",
       "      <td>16</td>\n",
       "      <td>B</td>\n",
       "      <td>300009.450063</td>\n",
       "    </tr>\n",
       "    <tr>\n",
       "      <th>2</th>\n",
       "      <td>4765</td>\n",
       "      <td>53</td>\n",
       "      <td>2.0</td>\n",
       "      <td>44.947953</td>\n",
       "      <td>29.197612</td>\n",
       "      <td>0.0</td>\n",
       "      <td>8</td>\n",
       "      <td>12.0</td>\n",
       "      <td>1968</td>\n",
       "      <td>0.049637</td>\n",
       "      <td>B</td>\n",
       "      <td>B</td>\n",
       "      <td>34</td>\n",
       "      <td>7759</td>\n",
       "      <td>0</td>\n",
       "      <td>229.0</td>\n",
       "      <td>1</td>\n",
       "      <td>3</td>\n",
       "      <td>B</td>\n",
       "      <td>220925.908524</td>\n",
       "    </tr>\n",
       "    <tr>\n",
       "      <th>3</th>\n",
       "      <td>5809</td>\n",
       "      <td>58</td>\n",
       "      <td>2.0</td>\n",
       "      <td>53.352981</td>\n",
       "      <td>52.731512</td>\n",
       "      <td>9.0</td>\n",
       "      <td>8</td>\n",
       "      <td>17.0</td>\n",
       "      <td>1977</td>\n",
       "      <td>0.437885</td>\n",
       "      <td>B</td>\n",
       "      <td>B</td>\n",
       "      <td>23</td>\n",
       "      <td>5735</td>\n",
       "      <td>3</td>\n",
       "      <td>1084.0</td>\n",
       "      <td>0</td>\n",
       "      <td>5</td>\n",
       "      <td>B</td>\n",
       "      <td>175616.227217</td>\n",
       "    </tr>\n",
       "    <tr>\n",
       "      <th>4</th>\n",
       "      <td>10783</td>\n",
       "      <td>99</td>\n",
       "      <td>1.0</td>\n",
       "      <td>39.649192</td>\n",
       "      <td>23.776169</td>\n",
       "      <td>7.0</td>\n",
       "      <td>11</td>\n",
       "      <td>12.0</td>\n",
       "      <td>1976</td>\n",
       "      <td>0.012339</td>\n",
       "      <td>B</td>\n",
       "      <td>B</td>\n",
       "      <td>35</td>\n",
       "      <td>5776</td>\n",
       "      <td>1</td>\n",
       "      <td>2078.0</td>\n",
       "      <td>2</td>\n",
       "      <td>4</td>\n",
       "      <td>B</td>\n",
       "      <td>150226.531644</td>\n",
       "    </tr>\n",
       "  </tbody>\n",
       "</table>\n",
       "</div>"
      ],
      "text/plain": [
       "      Id  DistrictId  Rooms     Square  LifeSquare  KitchenSquare  Floor  \\\n",
       "0  14038          35    2.0  47.981561   29.442751            6.0      7   \n",
       "1  15053          41    3.0  65.683640   40.049543            8.0      7   \n",
       "2   4765          53    2.0  44.947953   29.197612            0.0      8   \n",
       "3   5809          58    2.0  53.352981   52.731512            9.0      8   \n",
       "4  10783          99    1.0  39.649192   23.776169            7.0     11   \n",
       "\n",
       "   HouseFloor  HouseYear  Ecology_1 Ecology_2 Ecology_3  Social_1  Social_2  \\\n",
       "0         9.0       1969   0.089040         B         B        33      7976   \n",
       "1         9.0       1978   0.000070         B         B        46     10309   \n",
       "2        12.0       1968   0.049637         B         B        34      7759   \n",
       "3        17.0       1977   0.437885         B         B        23      5735   \n",
       "4        12.0       1976   0.012339         B         B        35      5776   \n",
       "\n",
       "   Social_3  Healthcare_1  Helthcare_2  Shops_1 Shops_2          Price  \n",
       "0         5           NaN            0       11       B  184966.930730  \n",
       "1         1         240.0            1       16       B  300009.450063  \n",
       "2         0         229.0            1        3       B  220925.908524  \n",
       "3         3        1084.0            0        5       B  175616.227217  \n",
       "4         1        2078.0            2        4       B  150226.531644  "
      ]
     },
     "execution_count": 3,
     "metadata": {},
     "output_type": "execute_result"
    }
   ],
   "source": [
    "df = pd.read_csv(DATASET_PATH)\n",
    "df.head(5)"
   ]
  },
  {
   "cell_type": "code",
   "execution_count": 4,
   "metadata": {},
   "outputs": [],
   "source": [
    "X_test = pd.read_csv(TEST_PATH)\n",
    "y_test = pd.DataFrame()\n",
    "y_test['Id'] = X_test['Id'].copy()\n",
    "X_test.set_index('Id', inplace = True)"
   ]
  },
  {
   "cell_type": "code",
   "execution_count": 5,
   "metadata": {},
   "outputs": [],
   "source": [
    "y = pd.DataFrame(df['Price'], columns = ['Price'])\n",
    "X = df.drop('Price', axis = 1)\n",
    "X.set_index('Id', inplace = True)"
   ]
  },
  {
   "cell_type": "code",
   "execution_count": 6,
   "metadata": {},
   "outputs": [
    {
     "name": "stdout",
     "output_type": "stream",
     "text": [
      "<class 'pandas.core.frame.DataFrame'>\n",
      "Int64Index: 10000 entries, 14038 to 6306\n",
      "Data columns (total 18 columns):\n",
      " #   Column         Non-Null Count  Dtype  \n",
      "---  ------         --------------  -----  \n",
      " 0   DistrictId     10000 non-null  int64  \n",
      " 1   Rooms          10000 non-null  float64\n",
      " 2   Square         10000 non-null  float64\n",
      " 3   LifeSquare     7887 non-null   float64\n",
      " 4   KitchenSquare  10000 non-null  float64\n",
      " 5   Floor          10000 non-null  int64  \n",
      " 6   HouseFloor     10000 non-null  float64\n",
      " 7   HouseYear      10000 non-null  int64  \n",
      " 8   Ecology_1      10000 non-null  float64\n",
      " 9   Ecology_2      10000 non-null  object \n",
      " 10  Ecology_3      10000 non-null  object \n",
      " 11  Social_1       10000 non-null  int64  \n",
      " 12  Social_2       10000 non-null  int64  \n",
      " 13  Social_3       10000 non-null  int64  \n",
      " 14  Healthcare_1   5202 non-null   float64\n",
      " 15  Helthcare_2    10000 non-null  int64  \n",
      " 16  Shops_1        10000 non-null  int64  \n",
      " 17  Shops_2        10000 non-null  object \n",
      "dtypes: float64(7), int64(8), object(3)\n",
      "memory usage: 1.4+ MB\n"
     ]
    }
   ],
   "source": [
    "X.info()"
   ]
  },
  {
   "cell_type": "code",
   "execution_count": 7,
   "metadata": {},
   "outputs": [
    {
     "name": "stdout",
     "output_type": "stream",
     "text": [
      "<class 'pandas.core.frame.DataFrame'>\n",
      "Int64Index: 5000 entries, 725 to 12504\n",
      "Data columns (total 18 columns):\n",
      " #   Column         Non-Null Count  Dtype  \n",
      "---  ------         --------------  -----  \n",
      " 0   DistrictId     5000 non-null   int64  \n",
      " 1   Rooms          5000 non-null   float64\n",
      " 2   Square         5000 non-null   float64\n",
      " 3   LifeSquare     3959 non-null   float64\n",
      " 4   KitchenSquare  5000 non-null   float64\n",
      " 5   Floor          5000 non-null   int64  \n",
      " 6   HouseFloor     5000 non-null   float64\n",
      " 7   HouseYear      5000 non-null   int64  \n",
      " 8   Ecology_1      5000 non-null   float64\n",
      " 9   Ecology_2      5000 non-null   object \n",
      " 10  Ecology_3      5000 non-null   object \n",
      " 11  Social_1       5000 non-null   int64  \n",
      " 12  Social_2       5000 non-null   int64  \n",
      " 13  Social_3       5000 non-null   int64  \n",
      " 14  Healthcare_1   2623 non-null   float64\n",
      " 15  Helthcare_2    5000 non-null   int64  \n",
      " 16  Shops_1        5000 non-null   int64  \n",
      " 17  Shops_2        5000 non-null   object \n",
      "dtypes: float64(7), int64(8), object(3)\n",
      "memory usage: 742.2+ KB\n"
     ]
    }
   ],
   "source": [
    "X_test.info()"
   ]
  },
  {
   "cell_type": "code",
   "execution_count": 8,
   "metadata": {},
   "outputs": [
    {
     "data": {
      "text/plain": [
       "11.0"
      ]
     },
     "execution_count": 8,
     "metadata": {},
     "output_type": "execute_result"
    }
   ],
   "source": [
    "tech_square = np.around((X['Square'] - X['LifeSquare'] - X['KitchenSquare']), decimals = 0).mode()[0]\n",
    "tech_square"
   ]
  },
  {
   "cell_type": "code",
   "execution_count": 9,
   "metadata": {},
   "outputs": [
    {
     "name": "stdout",
     "output_type": "stream",
     "text": [
      "LifeSquare X_test Nan: 0.2082\n",
      "LifeSquare X Nan: 0.2113\n"
     ]
    }
   ],
   "source": [
    "print(f\"LifeSquare X_test Nan: {X_test['LifeSquare'].isna().sum()/len(X_test['LifeSquare'])}\")\n",
    "print(f\"LifeSquare X Nan: {X['LifeSquare'].isna().sum()/len(X['LifeSquare'])}\")"
   ]
  },
  {
   "cell_type": "code",
   "execution_count": 10,
   "metadata": {},
   "outputs": [
    {
     "name": "stdout",
     "output_type": "stream",
     "text": [
      "LifeSquare X_test bad values: 0.5824\n",
      "LifeSquare X bad values: 0.585\n"
     ]
    }
   ],
   "source": [
    "print(f\"LifeSquare X_test bad values: {sum(X_test['LifeSquare'].isna() | (X_test['Square'] < X_test['LifeSquare'] + X_test['KitchenSquare'] + tech_square))/len(X_test['LifeSquare'])}\")\n",
    "print(f\"LifeSquare X bad values: {sum(X['LifeSquare'].isna() | (X['Square'] < X['LifeSquare'] + X['KitchenSquare'] + tech_square))/len(X['LifeSquare'])}\")"
   ]
  },
  {
   "cell_type": "code",
   "execution_count": 11,
   "metadata": {},
   "outputs": [],
   "source": [
    "#LifeSquare may be removed"
   ]
  },
  {
   "cell_type": "code",
   "execution_count": 12,
   "metadata": {},
   "outputs": [
    {
     "name": "stdout",
     "output_type": "stream",
     "text": [
      "Healthcare_1 X_test Nan: 0.4754\n",
      "Healthcare_1 X Nan: 0.4798\n"
     ]
    }
   ],
   "source": [
    "print(f\"Healthcare_1 X_test Nan: {X_test['Healthcare_1'].isna().sum()/len(X_test['Healthcare_1'])}\")\n",
    "print(f\"Healthcare_1 X Nan: {X['Healthcare_1'].isna().sum()/len(X['Healthcare_1'])}\")"
   ]
  },
  {
   "cell_type": "code",
   "execution_count": 13,
   "metadata": {},
   "outputs": [],
   "source": [
    "#Healthcare_1 will be removed"
   ]
  },
  {
   "cell_type": "code",
   "execution_count": 14,
   "metadata": {
    "scrolled": true
   },
   "outputs": [
    {
     "data": {
      "text/html": [
       "<div>\n",
       "<style scoped>\n",
       "    .dataframe tbody tr th:only-of-type {\n",
       "        vertical-align: middle;\n",
       "    }\n",
       "\n",
       "    .dataframe tbody tr th {\n",
       "        vertical-align: top;\n",
       "    }\n",
       "\n",
       "    .dataframe thead th {\n",
       "        text-align: right;\n",
       "    }\n",
       "</style>\n",
       "<table border=\"1\" class=\"dataframe\">\n",
       "  <thead>\n",
       "    <tr style=\"text-align: right;\">\n",
       "      <th></th>\n",
       "      <th>DistrictId</th>\n",
       "      <th>Rooms</th>\n",
       "      <th>Square</th>\n",
       "      <th>LifeSquare</th>\n",
       "      <th>KitchenSquare</th>\n",
       "      <th>Floor</th>\n",
       "      <th>HouseFloor</th>\n",
       "      <th>HouseYear</th>\n",
       "      <th>Ecology_1</th>\n",
       "      <th>Social_1</th>\n",
       "      <th>Social_2</th>\n",
       "      <th>Social_3</th>\n",
       "      <th>Healthcare_1</th>\n",
       "      <th>Helthcare_2</th>\n",
       "      <th>Shops_1</th>\n",
       "    </tr>\n",
       "  </thead>\n",
       "  <tbody>\n",
       "    <tr>\n",
       "      <th>count</th>\n",
       "      <td>10000.000000</td>\n",
       "      <td>10000.000000</td>\n",
       "      <td>10000.000000</td>\n",
       "      <td>7887.000000</td>\n",
       "      <td>10000.000000</td>\n",
       "      <td>10000.000000</td>\n",
       "      <td>10000.000000</td>\n",
       "      <td>1.000000e+04</td>\n",
       "      <td>10000.000000</td>\n",
       "      <td>10000.000000</td>\n",
       "      <td>10000.000000</td>\n",
       "      <td>10000.000000</td>\n",
       "      <td>5202.000000</td>\n",
       "      <td>10000.000000</td>\n",
       "      <td>10000.000000</td>\n",
       "    </tr>\n",
       "    <tr>\n",
       "      <th>mean</th>\n",
       "      <td>50.400800</td>\n",
       "      <td>1.890500</td>\n",
       "      <td>56.315775</td>\n",
       "      <td>37.199645</td>\n",
       "      <td>6.273300</td>\n",
       "      <td>8.526700</td>\n",
       "      <td>12.609400</td>\n",
       "      <td>3.990166e+03</td>\n",
       "      <td>0.118858</td>\n",
       "      <td>24.687000</td>\n",
       "      <td>5352.157400</td>\n",
       "      <td>8.039200</td>\n",
       "      <td>1142.904460</td>\n",
       "      <td>1.319500</td>\n",
       "      <td>4.231300</td>\n",
       "    </tr>\n",
       "    <tr>\n",
       "      <th>std</th>\n",
       "      <td>43.587592</td>\n",
       "      <td>0.839512</td>\n",
       "      <td>21.058732</td>\n",
       "      <td>86.241209</td>\n",
       "      <td>28.560917</td>\n",
       "      <td>5.241148</td>\n",
       "      <td>6.775974</td>\n",
       "      <td>2.005003e+05</td>\n",
       "      <td>0.119025</td>\n",
       "      <td>17.532614</td>\n",
       "      <td>4006.799803</td>\n",
       "      <td>23.831875</td>\n",
       "      <td>1021.517264</td>\n",
       "      <td>1.493601</td>\n",
       "      <td>4.806341</td>\n",
       "    </tr>\n",
       "    <tr>\n",
       "      <th>min</th>\n",
       "      <td>0.000000</td>\n",
       "      <td>0.000000</td>\n",
       "      <td>1.136859</td>\n",
       "      <td>0.370619</td>\n",
       "      <td>0.000000</td>\n",
       "      <td>1.000000</td>\n",
       "      <td>0.000000</td>\n",
       "      <td>1.910000e+03</td>\n",
       "      <td>0.000000</td>\n",
       "      <td>0.000000</td>\n",
       "      <td>168.000000</td>\n",
       "      <td>0.000000</td>\n",
       "      <td>0.000000</td>\n",
       "      <td>0.000000</td>\n",
       "      <td>0.000000</td>\n",
       "    </tr>\n",
       "    <tr>\n",
       "      <th>25%</th>\n",
       "      <td>20.000000</td>\n",
       "      <td>1.000000</td>\n",
       "      <td>41.774881</td>\n",
       "      <td>22.769832</td>\n",
       "      <td>1.000000</td>\n",
       "      <td>4.000000</td>\n",
       "      <td>9.000000</td>\n",
       "      <td>1.974000e+03</td>\n",
       "      <td>0.017647</td>\n",
       "      <td>6.000000</td>\n",
       "      <td>1564.000000</td>\n",
       "      <td>0.000000</td>\n",
       "      <td>350.000000</td>\n",
       "      <td>0.000000</td>\n",
       "      <td>1.000000</td>\n",
       "    </tr>\n",
       "    <tr>\n",
       "      <th>50%</th>\n",
       "      <td>36.000000</td>\n",
       "      <td>2.000000</td>\n",
       "      <td>52.513310</td>\n",
       "      <td>32.781260</td>\n",
       "      <td>6.000000</td>\n",
       "      <td>7.000000</td>\n",
       "      <td>13.000000</td>\n",
       "      <td>1.977000e+03</td>\n",
       "      <td>0.075424</td>\n",
       "      <td>25.000000</td>\n",
       "      <td>5285.000000</td>\n",
       "      <td>2.000000</td>\n",
       "      <td>900.000000</td>\n",
       "      <td>1.000000</td>\n",
       "      <td>3.000000</td>\n",
       "    </tr>\n",
       "    <tr>\n",
       "      <th>75%</th>\n",
       "      <td>75.000000</td>\n",
       "      <td>2.000000</td>\n",
       "      <td>65.900625</td>\n",
       "      <td>45.128803</td>\n",
       "      <td>9.000000</td>\n",
       "      <td>12.000000</td>\n",
       "      <td>17.000000</td>\n",
       "      <td>2.001000e+03</td>\n",
       "      <td>0.195781</td>\n",
       "      <td>36.000000</td>\n",
       "      <td>7227.000000</td>\n",
       "      <td>5.000000</td>\n",
       "      <td>1548.000000</td>\n",
       "      <td>2.000000</td>\n",
       "      <td>6.000000</td>\n",
       "    </tr>\n",
       "    <tr>\n",
       "      <th>max</th>\n",
       "      <td>209.000000</td>\n",
       "      <td>19.000000</td>\n",
       "      <td>641.065193</td>\n",
       "      <td>7480.592129</td>\n",
       "      <td>2014.000000</td>\n",
       "      <td>42.000000</td>\n",
       "      <td>117.000000</td>\n",
       "      <td>2.005201e+07</td>\n",
       "      <td>0.521867</td>\n",
       "      <td>74.000000</td>\n",
       "      <td>19083.000000</td>\n",
       "      <td>141.000000</td>\n",
       "      <td>4849.000000</td>\n",
       "      <td>6.000000</td>\n",
       "      <td>23.000000</td>\n",
       "    </tr>\n",
       "  </tbody>\n",
       "</table>\n",
       "</div>"
      ],
      "text/plain": [
       "         DistrictId         Rooms        Square   LifeSquare  KitchenSquare  \\\n",
       "count  10000.000000  10000.000000  10000.000000  7887.000000   10000.000000   \n",
       "mean      50.400800      1.890500     56.315775    37.199645       6.273300   \n",
       "std       43.587592      0.839512     21.058732    86.241209      28.560917   \n",
       "min        0.000000      0.000000      1.136859     0.370619       0.000000   \n",
       "25%       20.000000      1.000000     41.774881    22.769832       1.000000   \n",
       "50%       36.000000      2.000000     52.513310    32.781260       6.000000   \n",
       "75%       75.000000      2.000000     65.900625    45.128803       9.000000   \n",
       "max      209.000000     19.000000    641.065193  7480.592129    2014.000000   \n",
       "\n",
       "              Floor    HouseFloor     HouseYear     Ecology_1      Social_1  \\\n",
       "count  10000.000000  10000.000000  1.000000e+04  10000.000000  10000.000000   \n",
       "mean       8.526700     12.609400  3.990166e+03      0.118858     24.687000   \n",
       "std        5.241148      6.775974  2.005003e+05      0.119025     17.532614   \n",
       "min        1.000000      0.000000  1.910000e+03      0.000000      0.000000   \n",
       "25%        4.000000      9.000000  1.974000e+03      0.017647      6.000000   \n",
       "50%        7.000000     13.000000  1.977000e+03      0.075424     25.000000   \n",
       "75%       12.000000     17.000000  2.001000e+03      0.195781     36.000000   \n",
       "max       42.000000    117.000000  2.005201e+07      0.521867     74.000000   \n",
       "\n",
       "           Social_2      Social_3  Healthcare_1   Helthcare_2       Shops_1  \n",
       "count  10000.000000  10000.000000   5202.000000  10000.000000  10000.000000  \n",
       "mean    5352.157400      8.039200   1142.904460      1.319500      4.231300  \n",
       "std     4006.799803     23.831875   1021.517264      1.493601      4.806341  \n",
       "min      168.000000      0.000000      0.000000      0.000000      0.000000  \n",
       "25%     1564.000000      0.000000    350.000000      0.000000      1.000000  \n",
       "50%     5285.000000      2.000000    900.000000      1.000000      3.000000  \n",
       "75%     7227.000000      5.000000   1548.000000      2.000000      6.000000  \n",
       "max    19083.000000    141.000000   4849.000000      6.000000     23.000000  "
      ]
     },
     "execution_count": 14,
     "metadata": {},
     "output_type": "execute_result"
    }
   ],
   "source": [
    "X.describe()"
   ]
  },
  {
   "cell_type": "markdown",
   "metadata": {},
   "source": [
    "## EDA"
   ]
  },
  {
   "cell_type": "markdown",
   "metadata": {},
   "source": [
    "#### price"
   ]
  },
  {
   "cell_type": "code",
   "execution_count": 15,
   "metadata": {},
   "outputs": [
    {
     "data": {
      "image/png": "[encoded data removed]",
      "text/plain": [
       "<Figure size 1152x576 with 1 Axes>"
      ]
     },
     "metadata": {
      "needs_background": "light"
     },
     "output_type": "display_data"
    }
   ],
   "source": [
    "fig, ax = plt.subplots(figsize = (16, 8))\n",
    "sns.distplot(y['Price'])\n",
    "ax.vlines(y['Price'].mean(), 0, 0.000008, label='mean', linestyle=':', linewidth=4)\n",
    "ax.vlines(y['Price'].median(), 0, 0.000008, label='median', linestyle='--', linewidth=4)\n",
    "\n",
    "plt.title('Distribution of price')\n",
    "plt.legend()\n",
    "plt.show()"
   ]
  },
  {
   "cell_type": "markdown",
   "metadata": {},
   "source": [
    "#### outs"
   ]
  },
  {
   "cell_type": "code",
   "execution_count": 16,
   "metadata": {},
   "outputs": [],
   "source": [
    "quant_features = ['Rooms', 'Square', 'LifeSquare', 'KitchenSquare', 'Floor',\n",
    "       'HouseFloor', 'HouseYear', 'Ecology_1', 'Social_1', 'Social_2', 'Social_3', 'Helthcare_2',\n",
    "       'Shops_1']\n",
    "bin_features = ['Ecology_2', 'Ecology_3', 'Shops_2']"
   ]
  },
  {
   "cell_type": "code",
   "execution_count": 17,
   "metadata": {},
   "outputs": [
    {
     "data": {
      "text/html": [
       "<div>\n",
       "<style scoped>\n",
       "    .dataframe tbody tr th:only-of-type {\n",
       "        vertical-align: middle;\n",
       "    }\n",
       "\n",
       "    .dataframe tbody tr th {\n",
       "        vertical-align: top;\n",
       "    }\n",
       "\n",
       "    .dataframe thead th {\n",
       "        text-align: right;\n",
       "    }\n",
       "</style>\n",
       "<table border=\"1\" class=\"dataframe\">\n",
       "  <thead>\n",
       "    <tr style=\"text-align: right;\">\n",
       "      <th></th>\n",
       "      <th>mean</th>\n",
       "      <th>std</th>\n",
       "    </tr>\n",
       "  </thead>\n",
       "  <tbody>\n",
       "    <tr>\n",
       "      <th>Rooms</th>\n",
       "      <td>1.890500</td>\n",
       "      <td>0.839512</td>\n",
       "    </tr>\n",
       "    <tr>\n",
       "      <th>Square</th>\n",
       "      <td>56.315775</td>\n",
       "      <td>21.058732</td>\n",
       "    </tr>\n",
       "    <tr>\n",
       "      <th>LifeSquare</th>\n",
       "      <td>37.199645</td>\n",
       "      <td>86.241209</td>\n",
       "    </tr>\n",
       "    <tr>\n",
       "      <th>KitchenSquare</th>\n",
       "      <td>6.273300</td>\n",
       "      <td>28.560917</td>\n",
       "    </tr>\n",
       "    <tr>\n",
       "      <th>Floor</th>\n",
       "      <td>8.526700</td>\n",
       "      <td>5.241148</td>\n",
       "    </tr>\n",
       "    <tr>\n",
       "      <th>HouseFloor</th>\n",
       "      <td>12.609400</td>\n",
       "      <td>6.775974</td>\n",
       "    </tr>\n",
       "    <tr>\n",
       "      <th>HouseYear</th>\n",
       "      <td>3990.166300</td>\n",
       "      <td>200500.261427</td>\n",
       "    </tr>\n",
       "    <tr>\n",
       "      <th>Ecology_1</th>\n",
       "      <td>0.118858</td>\n",
       "      <td>0.119025</td>\n",
       "    </tr>\n",
       "    <tr>\n",
       "      <th>Social_1</th>\n",
       "      <td>24.687000</td>\n",
       "      <td>17.532614</td>\n",
       "    </tr>\n",
       "    <tr>\n",
       "      <th>Social_2</th>\n",
       "      <td>5352.157400</td>\n",
       "      <td>4006.799803</td>\n",
       "    </tr>\n",
       "    <tr>\n",
       "      <th>Social_3</th>\n",
       "      <td>8.039200</td>\n",
       "      <td>23.831875</td>\n",
       "    </tr>\n",
       "    <tr>\n",
       "      <th>Helthcare_2</th>\n",
       "      <td>1.319500</td>\n",
       "      <td>1.493601</td>\n",
       "    </tr>\n",
       "    <tr>\n",
       "      <th>Shops_1</th>\n",
       "      <td>4.231300</td>\n",
       "      <td>4.806341</td>\n",
       "    </tr>\n",
       "  </tbody>\n",
       "</table>\n",
       "</div>"
      ],
      "text/plain": [
       "                      mean            std\n",
       "Rooms             1.890500       0.839512\n",
       "Square           56.315775      21.058732\n",
       "LifeSquare       37.199645      86.241209\n",
       "KitchenSquare     6.273300      28.560917\n",
       "Floor             8.526700       5.241148\n",
       "HouseFloor       12.609400       6.775974\n",
       "HouseYear      3990.166300  200500.261427\n",
       "Ecology_1         0.118858       0.119025\n",
       "Social_1         24.687000      17.532614\n",
       "Social_2       5352.157400    4006.799803\n",
       "Social_3          8.039200      23.831875\n",
       "Helthcare_2       1.319500       1.493601\n",
       "Shops_1           4.231300       4.806341"
      ]
     },
     "execution_count": 17,
     "metadata": {},
     "output_type": "execute_result"
    }
   ],
   "source": [
    "pure_metrics = X.loc[:, quant_features].describe().loc[['mean', 'std']]\n",
    "pure_metrics.T"
   ]
  },
  {
   "cell_type": "code",
   "execution_count": 18,
   "metadata": {},
   "outputs": [],
   "source": [
    "def outs(feature):\n",
    "    bot = X.loc[:, quant_features].boxplot(column = [feature], return_type = 'dict')['caps'][0].get_ydata()[0]\n",
    "    top = X.loc[:, quant_features].boxplot(column = [feature], return_type = 'dict')['caps'][1].get_ydata()[0]\n",
    "    med = X.loc[:, quant_features].boxplot(column = [feature], return_type = 'dict')['medians'][0].get_ydata()[1]\n",
    "    part = len(X.loc[:, quant_features][feature][(X.loc[:, quant_features][feature] > top) | (X.loc[:, quant_features][feature] < bot)])/len(X.loc[:, quant_features][feature])\n",
    "    return {'bot': bot, 'med': med, 'top': top, 'part': part}\n"
   ]
  },
  {
   "cell_type": "code",
   "execution_count": 19,
   "metadata": {},
   "outputs": [
    {
     "data": {
      "text/html": [
       "<div>\n",
       "<style scoped>\n",
       "    .dataframe tbody tr th:only-of-type {\n",
       "        vertical-align: middle;\n",
       "    }\n",
       "\n",
       "    .dataframe tbody tr th {\n",
       "        vertical-align: top;\n",
       "    }\n",
       "\n",
       "    .dataframe thead th {\n",
       "        text-align: right;\n",
       "    }\n",
       "</style>\n",
       "<table border=\"1\" class=\"dataframe\">\n",
       "  <thead>\n",
       "    <tr style=\"text-align: right;\">\n",
       "      <th></th>\n",
       "      <th>Rooms</th>\n",
       "      <th>Square</th>\n",
       "      <th>LifeSquare</th>\n",
       "      <th>KitchenSquare</th>\n",
       "      <th>Floor</th>\n",
       "      <th>HouseFloor</th>\n",
       "      <th>HouseYear</th>\n",
       "      <th>Ecology_1</th>\n",
       "      <th>Social_1</th>\n",
       "      <th>Social_2</th>\n",
       "      <th>Social_3</th>\n",
       "      <th>Helthcare_2</th>\n",
       "      <th>Shops_1</th>\n",
       "    </tr>\n",
       "  </thead>\n",
       "  <tbody>\n",
       "    <tr>\n",
       "      <th>bot</th>\n",
       "      <td>0.0000</td>\n",
       "      <td>13.784865</td>\n",
       "      <td>0.370619</td>\n",
       "      <td>0.0000</td>\n",
       "      <td>1.0000</td>\n",
       "      <td>0.0000</td>\n",
       "      <td>1934.0000</td>\n",
       "      <td>0.000000</td>\n",
       "      <td>0.0</td>\n",
       "      <td>168.0000</td>\n",
       "      <td>0.0000</td>\n",
       "      <td>0.0000</td>\n",
       "      <td>0.0000</td>\n",
       "    </tr>\n",
       "    <tr>\n",
       "      <th>med</th>\n",
       "      <td>2.0000</td>\n",
       "      <td>52.513310</td>\n",
       "      <td>32.781260</td>\n",
       "      <td>6.0000</td>\n",
       "      <td>7.0000</td>\n",
       "      <td>13.0000</td>\n",
       "      <td>1977.0000</td>\n",
       "      <td>0.075424</td>\n",
       "      <td>25.0</td>\n",
       "      <td>5285.0000</td>\n",
       "      <td>2.0000</td>\n",
       "      <td>1.0000</td>\n",
       "      <td>3.0000</td>\n",
       "    </tr>\n",
       "    <tr>\n",
       "      <th>top</th>\n",
       "      <td>3.0000</td>\n",
       "      <td>102.056968</td>\n",
       "      <td>78.651539</td>\n",
       "      <td>21.0000</td>\n",
       "      <td>24.0000</td>\n",
       "      <td>29.0000</td>\n",
       "      <td>2020.0000</td>\n",
       "      <td>0.460556</td>\n",
       "      <td>74.0</td>\n",
       "      <td>14892.0000</td>\n",
       "      <td>11.0000</td>\n",
       "      <td>5.0000</td>\n",
       "      <td>11.0000</td>\n",
       "    </tr>\n",
       "    <tr>\n",
       "      <th>part</th>\n",
       "      <td>0.0172</td>\n",
       "      <td>0.024200</td>\n",
       "      <td>0.024000</td>\n",
       "      <td>0.0047</td>\n",
       "      <td>0.0066</td>\n",
       "      <td>0.0049</td>\n",
       "      <td>0.0038</td>\n",
       "      <td>0.006100</td>\n",
       "      <td>0.0</td>\n",
       "      <td>0.0176</td>\n",
       "      <td>0.0862</td>\n",
       "      <td>0.0099</td>\n",
       "      <td>0.0553</td>\n",
       "    </tr>\n",
       "  </tbody>\n",
       "</table>\n",
       "</div>"
      ],
      "text/plain": [
       "       Rooms      Square  LifeSquare  KitchenSquare    Floor  HouseFloor  \\\n",
       "bot   0.0000   13.784865    0.370619         0.0000   1.0000      0.0000   \n",
       "med   2.0000   52.513310   32.781260         6.0000   7.0000     13.0000   \n",
       "top   3.0000  102.056968   78.651539        21.0000  24.0000     29.0000   \n",
       "part  0.0172    0.024200    0.024000         0.0047   0.0066      0.0049   \n",
       "\n",
       "      HouseYear  Ecology_1  Social_1    Social_2  Social_3  Helthcare_2  \\\n",
       "bot   1934.0000   0.000000       0.0    168.0000    0.0000       0.0000   \n",
       "med   1977.0000   0.075424      25.0   5285.0000    2.0000       1.0000   \n",
       "top   2020.0000   0.460556      74.0  14892.0000   11.0000       5.0000   \n",
       "part     0.0038   0.006100       0.0      0.0176    0.0862       0.0099   \n",
       "\n",
       "      Shops_1  \n",
       "bot    0.0000  \n",
       "med    3.0000  \n",
       "top   11.0000  \n",
       "part   0.0553  "
      ]
     },
     "execution_count": 19,
     "metadata": {},
     "output_type": "execute_result"
    },
    {
     "data": {
      "image/png": "[encoded data removed]",
      "text/plain": [
       "<Figure size 432x288 with 1 Axes>"
      ]
     },
     "metadata": {
      "needs_background": "light"
     },
     "output_type": "display_data"
    }
   ],
   "source": [
    "feature_out = pd.DataFrame({col: outs(col) for col in X.loc[:, quant_features].columns})\n",
    "feature_out"
   ]
  },
  {
   "cell_type": "markdown",
   "metadata": {},
   "source": [
    "#### ToDo\n",
    "* выбросы меняем на медиану. \n",
    "* если floor > house floor, то заменяем floor на house floor\n",
    "* удаляем Healthcare_1\n",
    "* nan LifeSquare = Square - KitchenSquare - tech_square\n",
    "* eсли общая площадь меньше суммы жилой и кухни, то LifeSquare = Square - KitchenSquare"
   ]
  },
  {
   "cell_type": "markdown",
   "metadata": {},
   "source": [
    "### 1. Clear outs"
   ]
  },
  {
   "cell_type": "code",
   "execution_count": 20,
   "metadata": {},
   "outputs": [],
   "source": [
    "def clear_outs(X):\n",
    "    for col in X.loc[:, quant_features].columns:\n",
    "        X.loc[(X[col] > feature_out[col]['top']) | (X[col] < feature_out[col]['bot']), col] = feature_out[col]['med']\n",
    "\n",
    "    X.loc[X['Floor'] > X['HouseFloor'], 'Floor'] = X.loc[X['Floor'] > X['HouseFloor'], 'HouseFloor']\n",
    "    if 'Healthcare_1' in X.columns:\n",
    "        X.drop('Healthcare_1', axis=1, inplace=True)\n",
    "    X.loc[X['LifeSquare'].isna(), 'LifeSquare'] = X.loc[X['LifeSquare'].isna(), 'Square'] - X.loc[X['LifeSquare'].isna(), 'KitchenSquare'] - tech_square\n",
    "    X.loc[X['Square'] < X['LifeSquare'] + X['KitchenSquare'], 'LifeSquare'] = X.loc[X['Square'] < X['LifeSquare'] + X['KitchenSquare'], 'Square'] - X.loc[X['Square'] < X['LifeSquare'] + X['KitchenSquare'], 'KitchenSquare']\n",
    "    return X"
   ]
  },
  {
   "cell_type": "code",
   "execution_count": 21,
   "metadata": {},
   "outputs": [],
   "source": [
    "X = clear_outs(X)\n",
    "X_test = clear_outs(X_test)"
   ]
  },
  {
   "cell_type": "code",
   "execution_count": 22,
   "metadata": {},
   "outputs": [
    {
     "data": {
      "text/html": [
       "<div>\n",
       "<style scoped>\n",
       "    .dataframe tbody tr th:only-of-type {\n",
       "        vertical-align: middle;\n",
       "    }\n",
       "\n",
       "    .dataframe tbody tr th {\n",
       "        vertical-align: top;\n",
       "    }\n",
       "\n",
       "    .dataframe thead th {\n",
       "        text-align: right;\n",
       "    }\n",
       "</style>\n",
       "<table border=\"1\" class=\"dataframe\">\n",
       "  <thead>\n",
       "    <tr style=\"text-align: right;\">\n",
       "      <th></th>\n",
       "      <th>mean_pure</th>\n",
       "      <th>std_pure</th>\n",
       "      <th>mean_tidy</th>\n",
       "      <th>std_tidy</th>\n",
       "    </tr>\n",
       "  </thead>\n",
       "  <tbody>\n",
       "    <tr>\n",
       "      <th>Rooms</th>\n",
       "      <td>1.890500</td>\n",
       "      <td>0.839512</td>\n",
       "      <td>1.851400</td>\n",
       "      <td>0.758403</td>\n",
       "    </tr>\n",
       "    <tr>\n",
       "      <th>Square</th>\n",
       "      <td>56.315775</td>\n",
       "      <td>21.058732</td>\n",
       "      <td>54.654781</td>\n",
       "      <td>15.859586</td>\n",
       "    </tr>\n",
       "    <tr>\n",
       "      <th>LifeSquare</th>\n",
       "      <td>37.199645</td>\n",
       "      <td>86.241209</td>\n",
       "      <td>36.089502</td>\n",
       "      <td>14.687973</td>\n",
       "    </tr>\n",
       "    <tr>\n",
       "      <th>KitchenSquare</th>\n",
       "      <td>6.273300</td>\n",
       "      <td>28.560917</td>\n",
       "      <td>5.677200</td>\n",
       "      <td>3.877667</td>\n",
       "    </tr>\n",
       "    <tr>\n",
       "      <th>Floor</th>\n",
       "      <td>8.526700</td>\n",
       "      <td>5.241148</td>\n",
       "      <td>7.595200</td>\n",
       "      <td>5.121226</td>\n",
       "    </tr>\n",
       "    <tr>\n",
       "      <th>HouseFloor</th>\n",
       "      <td>12.609400</td>\n",
       "      <td>6.775974</td>\n",
       "      <td>12.481500</td>\n",
       "      <td>6.395479</td>\n",
       "    </tr>\n",
       "    <tr>\n",
       "      <th>HouseYear</th>\n",
       "      <td>3990.166300</td>\n",
       "      <td>200500.261427</td>\n",
       "      <td>1985.052600</td>\n",
       "      <td>18.050225</td>\n",
       "    </tr>\n",
       "    <tr>\n",
       "      <th>Ecology_1</th>\n",
       "      <td>0.118858</td>\n",
       "      <td>0.119025</td>\n",
       "      <td>0.116213</td>\n",
       "      <td>0.115070</td>\n",
       "    </tr>\n",
       "    <tr>\n",
       "      <th>Social_1</th>\n",
       "      <td>24.687000</td>\n",
       "      <td>17.532614</td>\n",
       "      <td>24.687000</td>\n",
       "      <td>17.532614</td>\n",
       "    </tr>\n",
       "    <tr>\n",
       "      <th>Social_2</th>\n",
       "      <td>5352.157400</td>\n",
       "      <td>4006.799803</td>\n",
       "      <td>5109.312600</td>\n",
       "      <td>3560.474465</td>\n",
       "    </tr>\n",
       "    <tr>\n",
       "      <th>Social_3</th>\n",
       "      <td>8.039200</td>\n",
       "      <td>23.831875</td>\n",
       "      <td>2.378400</td>\n",
       "      <td>2.652078</td>\n",
       "    </tr>\n",
       "    <tr>\n",
       "      <th>Helthcare_2</th>\n",
       "      <td>1.319500</td>\n",
       "      <td>1.493601</td>\n",
       "      <td>1.270000</td>\n",
       "      <td>1.418627</td>\n",
       "    </tr>\n",
       "    <tr>\n",
       "      <th>Shops_1</th>\n",
       "      <td>4.231300</td>\n",
       "      <td>4.806341</td>\n",
       "      <td>3.343800</td>\n",
       "      <td>3.083172</td>\n",
       "    </tr>\n",
       "  </tbody>\n",
       "</table>\n",
       "</div>"
      ],
      "text/plain": [
       "                 mean_pure       std_pure    mean_tidy     std_tidy\n",
       "Rooms             1.890500       0.839512     1.851400     0.758403\n",
       "Square           56.315775      21.058732    54.654781    15.859586\n",
       "LifeSquare       37.199645      86.241209    36.089502    14.687973\n",
       "KitchenSquare     6.273300      28.560917     5.677200     3.877667\n",
       "Floor             8.526700       5.241148     7.595200     5.121226\n",
       "HouseFloor       12.609400       6.775974    12.481500     6.395479\n",
       "HouseYear      3990.166300  200500.261427  1985.052600    18.050225\n",
       "Ecology_1         0.118858       0.119025     0.116213     0.115070\n",
       "Social_1         24.687000      17.532614    24.687000    17.532614\n",
       "Social_2       5352.157400    4006.799803  5109.312600  3560.474465\n",
       "Social_3          8.039200      23.831875     2.378400     2.652078\n",
       "Helthcare_2       1.319500       1.493601     1.270000     1.418627\n",
       "Shops_1           4.231300       4.806341     3.343800     3.083172"
      ]
     },
     "execution_count": 22,
     "metadata": {},
     "output_type": "execute_result"
    }
   ],
   "source": [
    "clear_metrics = X.loc[:, quant_features].describe().loc[['mean', 'std']]\n",
    "pure_metrics.T.join(clear_metrics.T, lsuffix = '_pure', rsuffix = '_tidy')"
   ]
  },
  {
   "cell_type": "markdown",
   "metadata": {},
   "source": [
    "### 2. Feature engineering"
   ]
  },
  {
   "cell_type": "markdown",
   "metadata": {},
   "source": [
    "#### categorical data"
   ]
  },
  {
   "cell_type": "code",
   "execution_count": 23,
   "metadata": {},
   "outputs": [
    {
     "data": {
      "text/plain": [
       "(array(['A', 'B'], dtype=object),\n",
       " array(['A', 'B'], dtype=object),\n",
       " array(['A', 'B'], dtype=object))"
      ]
     },
     "execution_count": 23,
     "metadata": {},
     "output_type": "execute_result"
    }
   ],
   "source": [
    "np.unique(X['Ecology_2']), np.unique(X['Ecology_3']), np.unique(X['Shops_2'])"
   ]
  },
  {
   "cell_type": "code",
   "execution_count": 24,
   "metadata": {},
   "outputs": [],
   "source": [
    "def bin_to_num(X):\n",
    "    label_map = {'A': 0, 'B': 1}\n",
    "    for feature in bin_features:\n",
    "        X[feature] = X[feature].map(label_map)\n",
    "    return X"
   ]
  },
  {
   "cell_type": "code",
   "execution_count": 25,
   "metadata": {},
   "outputs": [],
   "source": [
    "X = bin_to_num(X)\n",
    "X_test = bin_to_num(X_test)"
   ]
  },
  {
   "cell_type": "code",
   "execution_count": 26,
   "metadata": {},
   "outputs": [
    {
     "name": "stdout",
     "output_type": "stream",
     "text": [
      "<class 'pandas.core.frame.DataFrame'>\n",
      "Int64Index: 10000 entries, 14038 to 6306\n",
      "Data columns (total 17 columns):\n",
      " #   Column         Non-Null Count  Dtype  \n",
      "---  ------         --------------  -----  \n",
      " 0   DistrictId     10000 non-null  int64  \n",
      " 1   Rooms          10000 non-null  float64\n",
      " 2   Square         10000 non-null  float64\n",
      " 3   LifeSquare     10000 non-null  float64\n",
      " 4   KitchenSquare  10000 non-null  float64\n",
      " 5   Floor          10000 non-null  float64\n",
      " 6   HouseFloor     10000 non-null  float64\n",
      " 7   HouseYear      10000 non-null  float64\n",
      " 8   Ecology_1      10000 non-null  float64\n",
      " 9   Ecology_2      10000 non-null  int64  \n",
      " 10  Ecology_3      10000 non-null  int64  \n",
      " 11  Social_1       10000 non-null  float64\n",
      " 12  Social_2       10000 non-null  float64\n",
      " 13  Social_3       10000 non-null  float64\n",
      " 14  Helthcare_2    10000 non-null  float64\n",
      " 15  Shops_1        10000 non-null  float64\n",
      " 16  Shops_2        10000 non-null  int64  \n",
      "dtypes: float64(13), int64(4)\n",
      "memory usage: 1.4 MB\n"
     ]
    }
   ],
   "source": [
    "X.info()"
   ]
  },
  {
   "cell_type": "markdown",
   "metadata": {},
   "source": [
    "#### district clasterization"
   ]
  },
  {
   "cell_type": "code",
   "execution_count": 27,
   "metadata": {},
   "outputs": [],
   "source": [
    "from sklearn.cluster import KMeans, MeanShift, Birch"
   ]
  },
  {
   "cell_type": "code",
   "execution_count": 28,
   "metadata": {},
   "outputs": [],
   "source": [
    "features_wo_district = ['Rooms', 'Square', 'LifeSquare', 'KitchenSquare', 'Floor',\n",
    "       'HouseFloor', 'HouseYear', 'Ecology_1', 'Social_1', 'Social_2', 'Social_3', 'Helthcare_2',\n",
    "       'Shops_1', 'Ecology_2', 'Ecology_3', 'Shops_2']"
   ]
  },
  {
   "cell_type": "code",
   "execution_count": 29,
   "metadata": {},
   "outputs": [],
   "source": [
    "features_district = ['Ecology_1', 'Social_1', 'Social_2', 'Social_3', 'Helthcare_2',\n",
    "       'Shops_1', 'Ecology_2', 'Ecology_3', 'Shops_2']"
   ]
  },
  {
   "cell_type": "code",
   "execution_count": 30,
   "metadata": {},
   "outputs": [],
   "source": [
    "from sklearn.model_selection import train_test_split\n",
    "X_train, X_valid, y_train, y_valid = train_test_split(X, y, test_size = 0.15, random_state = 42)"
   ]
  },
  {
   "cell_type": "code",
   "execution_count": 31,
   "metadata": {},
   "outputs": [],
   "source": [
    "from sklearn.preprocessing import StandardScaler\n",
    "\n",
    "scaler = StandardScaler(with_mean = False)\n",
    "\n",
    "X_train_scaled = pd.DataFrame(scaler.fit_transform(X_train.loc[:, features_wo_district]), columns = X_train.loc[:, features_wo_district].columns)\n",
    "X_valid_scaled = pd.DataFrame(scaler.transform(X_valid.loc[:, features_wo_district]), columns = X_valid.loc[:, features_wo_district].columns)\n",
    "X_test_scaled = pd.DataFrame(scaler.transform(X_test.loc[:, features_wo_district]), columns = X_test.loc[:, features_wo_district].columns)"
   ]
  },
  {
   "cell_type": "code",
   "execution_count": 32,
   "metadata": {},
   "outputs": [],
   "source": [
    "# from sklearn.manifold import TSNE\n",
    "# tsne = TSNE(n_components=2, learning_rate=150, random_state=100)\n",
    "\n",
    "# X_train_tsne = tsne.fit_transform(X_train_scaled)\n",
    "# plt.scatter(X_train_tsne[:, 0], X_train_tsne[:, 1])\n",
    "\n",
    "# plt.show()"
   ]
  },
  {
   "cell_type": "code",
   "execution_count": 33,
   "metadata": {},
   "outputs": [
    {
     "data": {
      "text/plain": [
       "array([0, 1, 2, 3], dtype=int64)"
      ]
     },
     "execution_count": 33,
     "metadata": {},
     "output_type": "execute_result"
    }
   ],
   "source": [
    "brc = Birch(threshold = 0.2, n_clusters = 4)\n",
    "\n",
    "labels_train = brc.fit_predict(X_train_scaled)\n",
    "labels_valid = brc.predict(X_valid_scaled)\n",
    "labels_test = brc.predict(X_test_scaled)\n",
    "np.unique(labels_train)"
   ]
  },
  {
   "cell_type": "code",
   "execution_count": 34,
   "metadata": {},
   "outputs": [],
   "source": [
    "# ?Birch"
   ]
  },
  {
   "cell_type": "code",
   "execution_count": 35,
   "metadata": {},
   "outputs": [],
   "source": [
    "labels_train = pd.Series(labels_train, name = 'Area', index = X_train.index.copy())\n",
    "labels_valid = pd.Series(labels_valid, name = 'Area', index = X_valid.index.copy())\n",
    "labels_test = pd.Series(labels_test, name = 'Area', index = X_test.index.copy())"
   ]
  },
  {
   "cell_type": "code",
   "execution_count": 36,
   "metadata": {},
   "outputs": [],
   "source": [
    "X_train = pd.concat([X_train, labels_train], axis = 1)\n",
    "X_valid = pd.concat([X_valid, labels_valid], axis = 1)\n",
    "X_test = pd.concat([X_test, labels_test], axis = 1)"
   ]
  },
  {
   "cell_type": "code",
   "execution_count": 37,
   "metadata": {},
   "outputs": [
    {
     "data": {
      "text/html": [
       "<div>\n",
       "<style scoped>\n",
       "    .dataframe tbody tr th:only-of-type {\n",
       "        vertical-align: middle;\n",
       "    }\n",
       "\n",
       "    .dataframe tbody tr th {\n",
       "        vertical-align: top;\n",
       "    }\n",
       "\n",
       "    .dataframe thead th {\n",
       "        text-align: right;\n",
       "    }\n",
       "</style>\n",
       "<table border=\"1\" class=\"dataframe\">\n",
       "  <thead>\n",
       "    <tr style=\"text-align: right;\">\n",
       "      <th></th>\n",
       "      <th>DistrictId</th>\n",
       "      <th>Rooms</th>\n",
       "      <th>Square</th>\n",
       "      <th>LifeSquare</th>\n",
       "      <th>KitchenSquare</th>\n",
       "      <th>Floor</th>\n",
       "      <th>HouseFloor</th>\n",
       "      <th>HouseYear</th>\n",
       "      <th>Ecology_1</th>\n",
       "      <th>Ecology_2</th>\n",
       "      <th>Ecology_3</th>\n",
       "      <th>Social_1</th>\n",
       "      <th>Social_2</th>\n",
       "      <th>Social_3</th>\n",
       "      <th>Helthcare_2</th>\n",
       "      <th>Shops_1</th>\n",
       "      <th>Shops_2</th>\n",
       "      <th>Area</th>\n",
       "    </tr>\n",
       "  </thead>\n",
       "  <tbody>\n",
       "    <tr>\n",
       "      <th>count</th>\n",
       "      <td>8500.000000</td>\n",
       "      <td>8500.000000</td>\n",
       "      <td>8500.000000</td>\n",
       "      <td>8500.000000</td>\n",
       "      <td>8500.000000</td>\n",
       "      <td>8500.000000</td>\n",
       "      <td>8500.000000</td>\n",
       "      <td>8500.000000</td>\n",
       "      <td>8500.000000</td>\n",
       "      <td>8500.000000</td>\n",
       "      <td>8500.000000</td>\n",
       "      <td>8500.000000</td>\n",
       "      <td>8500.000000</td>\n",
       "      <td>8500.000000</td>\n",
       "      <td>8500.000000</td>\n",
       "      <td>8500.000000</td>\n",
       "      <td>8500.000000</td>\n",
       "      <td>8500.000000</td>\n",
       "    </tr>\n",
       "    <tr>\n",
       "      <th>mean</th>\n",
       "      <td>50.509647</td>\n",
       "      <td>1.852000</td>\n",
       "      <td>54.695663</td>\n",
       "      <td>36.126166</td>\n",
       "      <td>5.677765</td>\n",
       "      <td>7.559647</td>\n",
       "      <td>12.469176</td>\n",
       "      <td>1985.085059</td>\n",
       "      <td>0.115548</td>\n",
       "      <td>0.990235</td>\n",
       "      <td>0.972471</td>\n",
       "      <td>24.728706</td>\n",
       "      <td>5112.913412</td>\n",
       "      <td>2.380000</td>\n",
       "      <td>1.267294</td>\n",
       "      <td>3.363882</td>\n",
       "      <td>0.917765</td>\n",
       "      <td>0.665294</td>\n",
       "    </tr>\n",
       "    <tr>\n",
       "      <th>std</th>\n",
       "      <td>43.744114</td>\n",
       "      <td>0.756026</td>\n",
       "      <td>15.836249</td>\n",
       "      <td>14.636502</td>\n",
       "      <td>3.881107</td>\n",
       "      <td>5.107651</td>\n",
       "      <td>6.403748</td>\n",
       "      <td>18.045306</td>\n",
       "      <td>0.114672</td>\n",
       "      <td>0.098339</td>\n",
       "      <td>0.163630</td>\n",
       "      <td>17.593093</td>\n",
       "      <td>3566.503239</td>\n",
       "      <td>2.650141</td>\n",
       "      <td>1.418397</td>\n",
       "      <td>3.094570</td>\n",
       "      <td>0.274739</td>\n",
       "      <td>0.579969</td>\n",
       "    </tr>\n",
       "    <tr>\n",
       "      <th>min</th>\n",
       "      <td>0.000000</td>\n",
       "      <td>0.000000</td>\n",
       "      <td>13.784865</td>\n",
       "      <td>0.370619</td>\n",
       "      <td>0.000000</td>\n",
       "      <td>0.000000</td>\n",
       "      <td>0.000000</td>\n",
       "      <td>1934.000000</td>\n",
       "      <td>0.000000</td>\n",
       "      <td>0.000000</td>\n",
       "      <td>0.000000</td>\n",
       "      <td>0.000000</td>\n",
       "      <td>168.000000</td>\n",
       "      <td>0.000000</td>\n",
       "      <td>0.000000</td>\n",
       "      <td>0.000000</td>\n",
       "      <td>0.000000</td>\n",
       "      <td>0.000000</td>\n",
       "    </tr>\n",
       "    <tr>\n",
       "      <th>25%</th>\n",
       "      <td>19.000000</td>\n",
       "      <td>1.000000</td>\n",
       "      <td>41.808817</td>\n",
       "      <td>24.676553</td>\n",
       "      <td>1.000000</td>\n",
       "      <td>4.000000</td>\n",
       "      <td>9.000000</td>\n",
       "      <td>1974.000000</td>\n",
       "      <td>0.017647</td>\n",
       "      <td>1.000000</td>\n",
       "      <td>1.000000</td>\n",
       "      <td>6.000000</td>\n",
       "      <td>1564.000000</td>\n",
       "      <td>0.000000</td>\n",
       "      <td>0.000000</td>\n",
       "      <td>1.000000</td>\n",
       "      <td>1.000000</td>\n",
       "      <td>0.000000</td>\n",
       "    </tr>\n",
       "    <tr>\n",
       "      <th>50%</th>\n",
       "      <td>36.000000</td>\n",
       "      <td>2.000000</td>\n",
       "      <td>52.513310</td>\n",
       "      <td>33.232854</td>\n",
       "      <td>6.000000</td>\n",
       "      <td>7.000000</td>\n",
       "      <td>12.000000</td>\n",
       "      <td>1977.000000</td>\n",
       "      <td>0.075424</td>\n",
       "      <td>1.000000</td>\n",
       "      <td>1.000000</td>\n",
       "      <td>25.000000</td>\n",
       "      <td>5285.000000</td>\n",
       "      <td>2.000000</td>\n",
       "      <td>1.000000</td>\n",
       "      <td>3.000000</td>\n",
       "      <td>1.000000</td>\n",
       "      <td>1.000000</td>\n",
       "    </tr>\n",
       "    <tr>\n",
       "      <th>75%</th>\n",
       "      <td>75.000000</td>\n",
       "      <td>2.000000</td>\n",
       "      <td>64.709435</td>\n",
       "      <td>45.567149</td>\n",
       "      <td>9.000000</td>\n",
       "      <td>11.000000</td>\n",
       "      <td>17.000000</td>\n",
       "      <td>2001.000000</td>\n",
       "      <td>0.194489</td>\n",
       "      <td>1.000000</td>\n",
       "      <td>1.000000</td>\n",
       "      <td>36.000000</td>\n",
       "      <td>7065.000000</td>\n",
       "      <td>4.000000</td>\n",
       "      <td>2.000000</td>\n",
       "      <td>5.000000</td>\n",
       "      <td>1.000000</td>\n",
       "      <td>1.000000</td>\n",
       "    </tr>\n",
       "    <tr>\n",
       "      <th>max</th>\n",
       "      <td>209.000000</td>\n",
       "      <td>3.000000</td>\n",
       "      <td>102.032801</td>\n",
       "      <td>90.032801</td>\n",
       "      <td>21.000000</td>\n",
       "      <td>24.000000</td>\n",
       "      <td>29.000000</td>\n",
       "      <td>2020.000000</td>\n",
       "      <td>0.460556</td>\n",
       "      <td>1.000000</td>\n",
       "      <td>1.000000</td>\n",
       "      <td>74.000000</td>\n",
       "      <td>14892.000000</td>\n",
       "      <td>11.000000</td>\n",
       "      <td>5.000000</td>\n",
       "      <td>11.000000</td>\n",
       "      <td>1.000000</td>\n",
       "      <td>3.000000</td>\n",
       "    </tr>\n",
       "  </tbody>\n",
       "</table>\n",
       "</div>"
      ],
      "text/plain": [
       "        DistrictId        Rooms       Square   LifeSquare  KitchenSquare  \\\n",
       "count  8500.000000  8500.000000  8500.000000  8500.000000    8500.000000   \n",
       "mean     50.509647     1.852000    54.695663    36.126166       5.677765   \n",
       "std      43.744114     0.756026    15.836249    14.636502       3.881107   \n",
       "min       0.000000     0.000000    13.784865     0.370619       0.000000   \n",
       "25%      19.000000     1.000000    41.808817    24.676553       1.000000   \n",
       "50%      36.000000     2.000000    52.513310    33.232854       6.000000   \n",
       "75%      75.000000     2.000000    64.709435    45.567149       9.000000   \n",
       "max     209.000000     3.000000   102.032801    90.032801      21.000000   \n",
       "\n",
       "             Floor   HouseFloor    HouseYear    Ecology_1    Ecology_2  \\\n",
       "count  8500.000000  8500.000000  8500.000000  8500.000000  8500.000000   \n",
       "mean      7.559647    12.469176  1985.085059     0.115548     0.990235   \n",
       "std       5.107651     6.403748    18.045306     0.114672     0.098339   \n",
       "min       0.000000     0.000000  1934.000000     0.000000     0.000000   \n",
       "25%       4.000000     9.000000  1974.000000     0.017647     1.000000   \n",
       "50%       7.000000    12.000000  1977.000000     0.075424     1.000000   \n",
       "75%      11.000000    17.000000  2001.000000     0.194489     1.000000   \n",
       "max      24.000000    29.000000  2020.000000     0.460556     1.000000   \n",
       "\n",
       "         Ecology_3     Social_1      Social_2     Social_3  Helthcare_2  \\\n",
       "count  8500.000000  8500.000000   8500.000000  8500.000000  8500.000000   \n",
       "mean      0.972471    24.728706   5112.913412     2.380000     1.267294   \n",
       "std       0.163630    17.593093   3566.503239     2.650141     1.418397   \n",
       "min       0.000000     0.000000    168.000000     0.000000     0.000000   \n",
       "25%       1.000000     6.000000   1564.000000     0.000000     0.000000   \n",
       "50%       1.000000    25.000000   5285.000000     2.000000     1.000000   \n",
       "75%       1.000000    36.000000   7065.000000     4.000000     2.000000   \n",
       "max       1.000000    74.000000  14892.000000    11.000000     5.000000   \n",
       "\n",
       "           Shops_1      Shops_2         Area  \n",
       "count  8500.000000  8500.000000  8500.000000  \n",
       "mean      3.363882     0.917765     0.665294  \n",
       "std       3.094570     0.274739     0.579969  \n",
       "min       0.000000     0.000000     0.000000  \n",
       "25%       1.000000     1.000000     0.000000  \n",
       "50%       3.000000     1.000000     1.000000  \n",
       "75%       5.000000     1.000000     1.000000  \n",
       "max      11.000000     1.000000     3.000000  "
      ]
     },
     "execution_count": 37,
     "metadata": {},
     "output_type": "execute_result"
    }
   ],
   "source": [
    "X_train.describe()"
   ]
  },
  {
   "cell_type": "code",
   "execution_count": 38,
   "metadata": {},
   "outputs": [],
   "source": [
    "# from sklearn.model_selection import train_test_split\n",
    "# X_train, X_valid, y_train, y_valid = train_test_split(X, y, test_size = 0.15, random_state = 42)"
   ]
  },
  {
   "cell_type": "code",
   "execution_count": null,
   "metadata": {},
   "outputs": [],
   "source": []
  },
  {
   "cell_type": "code",
   "execution_count": 39,
   "metadata": {},
   "outputs": [],
   "source": [
    "# inertias = []\n",
    "\n",
    "# for i in range(2, 20):\n",
    "#     temp_model = KMeans(n_clusters=i, random_state=42)\n",
    "#     temp_model.fit(X_train_scaled)\n",
    "    \n",
    "#     temp_inertia = temp_model.inertia_\n",
    "    \n",
    "#     inertias.append(temp_inertia)\n",
    "\n",
    "# plt.plot(range(2, 20), inertias)\n",
    "\n",
    "# plt.title('Inertia')\n",
    "\n",
    "# plt.show()"
   ]
  },
  {
   "cell_type": "code",
   "execution_count": 40,
   "metadata": {},
   "outputs": [],
   "source": [
    "# kmeans = KMeans(n_clusters = 4, random_state = 42)\n",
    "\n",
    "# labels_train = kmeans.fit_predict(X_train_scaled)\n",
    "# labels_valid = kmeans.predict(X_valid_scaled)\n",
    "# labels_test = kmeans.predict(X_test_scaled)"
   ]
  },
  {
   "cell_type": "code",
   "execution_count": 41,
   "metadata": {},
   "outputs": [],
   "source": [
    "# ms = MeanShift()\n",
    "\n",
    "# labels_train = ms.fit_predict(X_train_scaled)\n",
    "# labels_valid = ms.predict(X_valid_scaled)\n",
    "# labels_test = ms.predict(X_test_scaled)\n",
    "# np.unique(labels_train)"
   ]
  },
  {
   "cell_type": "code",
   "execution_count": 42,
   "metadata": {},
   "outputs": [],
   "source": [
    "# from sklearn.mixture import GaussianMixture\n",
    "# gmm = GaussianMixture(n_components = 5, random_state = 42)\n",
    "# labels_train = gmm.fit_predict(X_train_scaled)\n",
    "# labels_valid = gmm.predict(X_valid_scaled)\n",
    "# labels_test = gmm.predict(X_test_scaled)"
   ]
  },
  {
   "cell_type": "code",
   "execution_count": 43,
   "metadata": {},
   "outputs": [],
   "source": [
    "#### qty_train, qty_valid, qty_test = {}, {}, {}\n",
    "# for label in np.unique(labels_train):   \n",
    "#     qty_train[label] = len(X_train[labels_train == label])\n",
    "#     qty_valid[label] = len(X_valid[labels_valid == label])\n",
    "#     qty_test[label] = len(X_test[labels_test == label])\n",
    "# qty_train, qty_valid, qty_test"
   ]
  },
  {
   "cell_type": "code",
   "execution_count": 44,
   "metadata": {},
   "outputs": [],
   "source": [
    "# for label in np.unique(labels_train): \n",
    "#     X_train.loc[labels_train == label, 'Area'] = label\n",
    "#     X_valid.loc[labels_valid == label, 'Area'] = label\n",
    "#     X_test.loc[labels_test == label, 'Area'] = label\n",
    "#     X_train.loc[labels_train == label, 'Area_qty'] = qty_train[label]\n",
    "#     X_valid.loc[labels_valid == label, 'Area_qty'] = qty_valid[label]\n",
    "#     X_test.loc[labels_test == label, 'Area_qty'] = qty_test[label] "
   ]
  },
  {
   "cell_type": "code",
   "execution_count": 45,
   "metadata": {},
   "outputs": [
    {
     "data": {
      "text/html": [
       "<div>\n",
       "<style scoped>\n",
       "    .dataframe tbody tr th:only-of-type {\n",
       "        vertical-align: middle;\n",
       "    }\n",
       "\n",
       "    .dataframe tbody tr th {\n",
       "        vertical-align: top;\n",
       "    }\n",
       "\n",
       "    .dataframe thead th {\n",
       "        text-align: right;\n",
       "    }\n",
       "</style>\n",
       "<table border=\"1\" class=\"dataframe\">\n",
       "  <thead>\n",
       "    <tr style=\"text-align: right;\">\n",
       "      <th></th>\n",
       "      <th>DistrictId</th>\n",
       "      <th>Rooms</th>\n",
       "      <th>Square</th>\n",
       "      <th>LifeSquare</th>\n",
       "      <th>KitchenSquare</th>\n",
       "      <th>Floor</th>\n",
       "      <th>HouseFloor</th>\n",
       "      <th>HouseYear</th>\n",
       "      <th>Ecology_1</th>\n",
       "      <th>Ecology_2</th>\n",
       "      <th>Ecology_3</th>\n",
       "      <th>Social_1</th>\n",
       "      <th>Social_2</th>\n",
       "      <th>Social_3</th>\n",
       "      <th>Helthcare_2</th>\n",
       "      <th>Shops_1</th>\n",
       "      <th>Shops_2</th>\n",
       "      <th>Area</th>\n",
       "    </tr>\n",
       "  </thead>\n",
       "  <tbody>\n",
       "    <tr>\n",
       "      <th>count</th>\n",
       "      <td>8500.000000</td>\n",
       "      <td>8500.000000</td>\n",
       "      <td>8500.000000</td>\n",
       "      <td>8500.000000</td>\n",
       "      <td>8500.000000</td>\n",
       "      <td>8500.000000</td>\n",
       "      <td>8500.000000</td>\n",
       "      <td>8500.000000</td>\n",
       "      <td>8500.000000</td>\n",
       "      <td>8500.000000</td>\n",
       "      <td>8500.000000</td>\n",
       "      <td>8500.000000</td>\n",
       "      <td>8500.000000</td>\n",
       "      <td>8500.000000</td>\n",
       "      <td>8500.000000</td>\n",
       "      <td>8500.000000</td>\n",
       "      <td>8500.000000</td>\n",
       "      <td>8500.000000</td>\n",
       "    </tr>\n",
       "    <tr>\n",
       "      <th>mean</th>\n",
       "      <td>50.509647</td>\n",
       "      <td>1.852000</td>\n",
       "      <td>54.695663</td>\n",
       "      <td>36.126166</td>\n",
       "      <td>5.677765</td>\n",
       "      <td>7.559647</td>\n",
       "      <td>12.469176</td>\n",
       "      <td>1985.085059</td>\n",
       "      <td>0.115548</td>\n",
       "      <td>0.990235</td>\n",
       "      <td>0.972471</td>\n",
       "      <td>24.728706</td>\n",
       "      <td>5112.913412</td>\n",
       "      <td>2.380000</td>\n",
       "      <td>1.267294</td>\n",
       "      <td>3.363882</td>\n",
       "      <td>0.917765</td>\n",
       "      <td>0.665294</td>\n",
       "    </tr>\n",
       "    <tr>\n",
       "      <th>std</th>\n",
       "      <td>43.744114</td>\n",
       "      <td>0.756026</td>\n",
       "      <td>15.836249</td>\n",
       "      <td>14.636502</td>\n",
       "      <td>3.881107</td>\n",
       "      <td>5.107651</td>\n",
       "      <td>6.403748</td>\n",
       "      <td>18.045306</td>\n",
       "      <td>0.114672</td>\n",
       "      <td>0.098339</td>\n",
       "      <td>0.163630</td>\n",
       "      <td>17.593093</td>\n",
       "      <td>3566.503239</td>\n",
       "      <td>2.650141</td>\n",
       "      <td>1.418397</td>\n",
       "      <td>3.094570</td>\n",
       "      <td>0.274739</td>\n",
       "      <td>0.579969</td>\n",
       "    </tr>\n",
       "    <tr>\n",
       "      <th>min</th>\n",
       "      <td>0.000000</td>\n",
       "      <td>0.000000</td>\n",
       "      <td>13.784865</td>\n",
       "      <td>0.370619</td>\n",
       "      <td>0.000000</td>\n",
       "      <td>0.000000</td>\n",
       "      <td>0.000000</td>\n",
       "      <td>1934.000000</td>\n",
       "      <td>0.000000</td>\n",
       "      <td>0.000000</td>\n",
       "      <td>0.000000</td>\n",
       "      <td>0.000000</td>\n",
       "      <td>168.000000</td>\n",
       "      <td>0.000000</td>\n",
       "      <td>0.000000</td>\n",
       "      <td>0.000000</td>\n",
       "      <td>0.000000</td>\n",
       "      <td>0.000000</td>\n",
       "    </tr>\n",
       "    <tr>\n",
       "      <th>25%</th>\n",
       "      <td>19.000000</td>\n",
       "      <td>1.000000</td>\n",
       "      <td>41.808817</td>\n",
       "      <td>24.676553</td>\n",
       "      <td>1.000000</td>\n",
       "      <td>4.000000</td>\n",
       "      <td>9.000000</td>\n",
       "      <td>1974.000000</td>\n",
       "      <td>0.017647</td>\n",
       "      <td>1.000000</td>\n",
       "      <td>1.000000</td>\n",
       "      <td>6.000000</td>\n",
       "      <td>1564.000000</td>\n",
       "      <td>0.000000</td>\n",
       "      <td>0.000000</td>\n",
       "      <td>1.000000</td>\n",
       "      <td>1.000000</td>\n",
       "      <td>0.000000</td>\n",
       "    </tr>\n",
       "    <tr>\n",
       "      <th>50%</th>\n",
       "      <td>36.000000</td>\n",
       "      <td>2.000000</td>\n",
       "      <td>52.513310</td>\n",
       "      <td>33.232854</td>\n",
       "      <td>6.000000</td>\n",
       "      <td>7.000000</td>\n",
       "      <td>12.000000</td>\n",
       "      <td>1977.000000</td>\n",
       "      <td>0.075424</td>\n",
       "      <td>1.000000</td>\n",
       "      <td>1.000000</td>\n",
       "      <td>25.000000</td>\n",
       "      <td>5285.000000</td>\n",
       "      <td>2.000000</td>\n",
       "      <td>1.000000</td>\n",
       "      <td>3.000000</td>\n",
       "      <td>1.000000</td>\n",
       "      <td>1.000000</td>\n",
       "    </tr>\n",
       "    <tr>\n",
       "      <th>75%</th>\n",
       "      <td>75.000000</td>\n",
       "      <td>2.000000</td>\n",
       "      <td>64.709435</td>\n",
       "      <td>45.567149</td>\n",
       "      <td>9.000000</td>\n",
       "      <td>11.000000</td>\n",
       "      <td>17.000000</td>\n",
       "      <td>2001.000000</td>\n",
       "      <td>0.194489</td>\n",
       "      <td>1.000000</td>\n",
       "      <td>1.000000</td>\n",
       "      <td>36.000000</td>\n",
       "      <td>7065.000000</td>\n",
       "      <td>4.000000</td>\n",
       "      <td>2.000000</td>\n",
       "      <td>5.000000</td>\n",
       "      <td>1.000000</td>\n",
       "      <td>1.000000</td>\n",
       "    </tr>\n",
       "    <tr>\n",
       "      <th>max</th>\n",
       "      <td>209.000000</td>\n",
       "      <td>3.000000</td>\n",
       "      <td>102.032801</td>\n",
       "      <td>90.032801</td>\n",
       "      <td>21.000000</td>\n",
       "      <td>24.000000</td>\n",
       "      <td>29.000000</td>\n",
       "      <td>2020.000000</td>\n",
       "      <td>0.460556</td>\n",
       "      <td>1.000000</td>\n",
       "      <td>1.000000</td>\n",
       "      <td>74.000000</td>\n",
       "      <td>14892.000000</td>\n",
       "      <td>11.000000</td>\n",
       "      <td>5.000000</td>\n",
       "      <td>11.000000</td>\n",
       "      <td>1.000000</td>\n",
       "      <td>3.000000</td>\n",
       "    </tr>\n",
       "  </tbody>\n",
       "</table>\n",
       "</div>"
      ],
      "text/plain": [
       "        DistrictId        Rooms       Square   LifeSquare  KitchenSquare  \\\n",
       "count  8500.000000  8500.000000  8500.000000  8500.000000    8500.000000   \n",
       "mean     50.509647     1.852000    54.695663    36.126166       5.677765   \n",
       "std      43.744114     0.756026    15.836249    14.636502       3.881107   \n",
       "min       0.000000     0.000000    13.784865     0.370619       0.000000   \n",
       "25%      19.000000     1.000000    41.808817    24.676553       1.000000   \n",
       "50%      36.000000     2.000000    52.513310    33.232854       6.000000   \n",
       "75%      75.000000     2.000000    64.709435    45.567149       9.000000   \n",
       "max     209.000000     3.000000   102.032801    90.032801      21.000000   \n",
       "\n",
       "             Floor   HouseFloor    HouseYear    Ecology_1    Ecology_2  \\\n",
       "count  8500.000000  8500.000000  8500.000000  8500.000000  8500.000000   \n",
       "mean      7.559647    12.469176  1985.085059     0.115548     0.990235   \n",
       "std       5.107651     6.403748    18.045306     0.114672     0.098339   \n",
       "min       0.000000     0.000000  1934.000000     0.000000     0.000000   \n",
       "25%       4.000000     9.000000  1974.000000     0.017647     1.000000   \n",
       "50%       7.000000    12.000000  1977.000000     0.075424     1.000000   \n",
       "75%      11.000000    17.000000  2001.000000     0.194489     1.000000   \n",
       "max      24.000000    29.000000  2020.000000     0.460556     1.000000   \n",
       "\n",
       "         Ecology_3     Social_1      Social_2     Social_3  Helthcare_2  \\\n",
       "count  8500.000000  8500.000000   8500.000000  8500.000000  8500.000000   \n",
       "mean      0.972471    24.728706   5112.913412     2.380000     1.267294   \n",
       "std       0.163630    17.593093   3566.503239     2.650141     1.418397   \n",
       "min       0.000000     0.000000    168.000000     0.000000     0.000000   \n",
       "25%       1.000000     6.000000   1564.000000     0.000000     0.000000   \n",
       "50%       1.000000    25.000000   5285.000000     2.000000     1.000000   \n",
       "75%       1.000000    36.000000   7065.000000     4.000000     2.000000   \n",
       "max       1.000000    74.000000  14892.000000    11.000000     5.000000   \n",
       "\n",
       "           Shops_1      Shops_2         Area  \n",
       "count  8500.000000  8500.000000  8500.000000  \n",
       "mean      3.363882     0.917765     0.665294  \n",
       "std       3.094570     0.274739     0.579969  \n",
       "min       0.000000     0.000000     0.000000  \n",
       "25%       1.000000     1.000000     0.000000  \n",
       "50%       3.000000     1.000000     1.000000  \n",
       "75%       5.000000     1.000000     1.000000  \n",
       "max      11.000000     1.000000     3.000000  "
      ]
     },
     "execution_count": 45,
     "metadata": {},
     "output_type": "execute_result"
    }
   ],
   "source": [
    "X_train.describe()"
   ]
  },
  {
   "cell_type": "code",
   "execution_count": 46,
   "metadata": {},
   "outputs": [],
   "source": [
    "final_features = ['Rooms', 'Square', 'LifeSquare', 'KitchenSquare', 'Floor',\n",
    "       'HouseFloor', 'HouseYear', 'Ecology_1', 'Ecology_2', 'Ecology_3',\n",
    "       'Social_1', 'Social_2', 'Social_3', 'Helthcare_2', 'Shops_1', 'Shops_2',\n",
    "       'Area']"
   ]
  },
  {
   "cell_type": "code",
   "execution_count": 47,
   "metadata": {},
   "outputs": [],
   "source": [
    "# np.unique(X_train['Area'])"
   ]
  },
  {
   "cell_type": "code",
   "execution_count": 48,
   "metadata": {},
   "outputs": [],
   "source": [
    "X_train = X_train[final_features]\n",
    "X_valid = X_valid[final_features]\n",
    "X_test = X_test[final_features]"
   ]
  },
  {
   "cell_type": "markdown",
   "metadata": {},
   "source": [
    "## Model"
   ]
  },
  {
   "cell_type": "code",
   "execution_count": 49,
   "metadata": {},
   "outputs": [],
   "source": [
    "# from lightgbm import LGBMRegressor\n",
    "# model = LGBMRegressor(boosting_type = 'dart', num_leaves = 10, n_estimators = 700, random_state = 42)"
   ]
  },
  {
   "cell_type": "code",
   "execution_count": 50,
   "metadata": {},
   "outputs": [],
   "source": [
    "from sklearn.ensemble import RandomForestRegressor\n",
    "model = RandomForestRegressor(max_depth = None, max_features = 'sqrt', min_samples_split = 2, n_estimators = 750, random_state = 42)"
   ]
  },
  {
   "cell_type": "code",
   "execution_count": 51,
   "metadata": {},
   "outputs": [],
   "source": [
    "# from sklearn.ensemble import GradientBoostingRegressor\n",
    "# model = GradientBoostingRegressor(learning_rate = 0.05, max_depth = 9, max_features = 1.0, min_samples_leaf = 0.1, n_estimators = 700, random_state = 42)"
   ]
  },
  {
   "cell_type": "code",
   "execution_count": 52,
   "metadata": {},
   "outputs": [],
   "source": [
    "from sklearn.model_selection import cross_val_score, KFold, ShuffleSplit\n",
    "# ?ShuffleSplit"
   ]
  },
  {
   "cell_type": "code",
   "execution_count": 53,
   "metadata": {},
   "outputs": [
    {
     "data": {
      "text/plain": [
       "0.698547428733139"
      ]
     },
     "execution_count": 53,
     "metadata": {},
     "output_type": "execute_result"
    }
   ],
   "source": [
    "cv = KFold(n_splits = 5, shuffle = True, random_state = 42)\n",
    "# cv = ShuffleSplit(n_splits = 10, test_size = 0.15, random_state = 42)\n",
    "cv_score = cross_val_score(model, X_train, y_train.values[: , 0], scoring = 'r2', cv = cv).mean()\n",
    "cv_score"
   ]
  },
  {
   "cell_type": "markdown",
   "metadata": {},
   "source": [
    "#### model"
   ]
  },
  {
   "cell_type": "code",
   "execution_count": 54,
   "metadata": {},
   "outputs": [
    {
     "data": {
      "text/plain": [
       "GradientBoostingRegressor(alpha=0.9, ccp_alpha=0.0, criterion='friedman_mse',\n",
       "                          init=None, learning_rate=0.05, loss='ls', max_depth=9,\n",
       "                          max_features=1.0, max_leaf_nodes=None,\n",
       "                          min_impurity_decrease=0.0, min_impurity_split=None,\n",
       "                          min_samples_leaf=0.1, min_samples_split=2,\n",
       "                          min_weight_fraction_leaf=0.0, n_estimators=700,\n",
       "                          n_iter_no_change=None, presort='deprecated',\n",
       "                          random_state=42, subsample=1.0, tol=0.0001,\n",
       "                          validation_fraction=0.1, verbose=0, warm_start=False)"
      ]
     },
     "execution_count": 54,
     "metadata": {},
     "output_type": "execute_result"
    }
   ],
   "source": [
    "model.fit(X_train, y_train.values[: , 0])"
   ]
  },
  {
   "cell_type": "code",
   "execution_count": 55,
   "metadata": {},
   "outputs": [],
   "source": [
    "y_pred_valid = model.predict(X_valid)\n",
    "y_pred_train = model.predict(X_train)"
   ]
  },
  {
   "cell_type": "code",
   "execution_count": 56,
   "metadata": {},
   "outputs": [
    {
     "data": {
      "text/plain": [
       "(0.7108835560422597, 0.7309275337641171)"
      ]
     },
     "execution_count": 56,
     "metadata": {},
     "output_type": "execute_result"
    }
   ],
   "source": [
    "from sklearn.metrics import r2_score\n",
    "R2_valid = r2_score(y_valid, y_pred_valid)\n",
    "R2_train = r2_score(y_train, y_pred_train)\n",
    "R2_valid, R2_train"
   ]
  },
  {
   "cell_type": "code",
   "execution_count": 57,
   "metadata": {},
   "outputs": [
    {
     "data": {
      "image/png": "[encoded data removed]",
      "text/plain": [
       "<Figure size 720x720 with 1 Axes>"
      ]
     },
     "metadata": {
      "needs_background": "light"
     },
     "output_type": "display_data"
    }
   ],
   "source": [
    "import matplotlib\n",
    "import matplotlib.pyplot as plt\n",
    "import seaborn as sns\n",
    "%matplotlib inline\n",
    "\n",
    "plt.figure(figsize = (10,10)) \n",
    "sns.scatterplot(x = y_pred_valid, y = y_valid.values[: , 0])\n",
    "\n",
    "plt.xlabel('Predicted values')\n",
    "plt.ylabel('True values')\n",
    "plt.title('True vs Predicted values')\n",
    "plt.show()"
   ]
  },
  {
   "cell_type": "code",
   "execution_count": 58,
   "metadata": {},
   "outputs": [
    {
     "data": {
      "text/plain": [
       "array([162062.59069108, 202728.38786994, 414319.11022551, ...,\n",
       "       318458.72292667, 221320.35536009, 183158.21954434])"
      ]
     },
     "execution_count": 58,
     "metadata": {},
     "output_type": "execute_result"
    }
   ],
   "source": [
    "y_pred_test = model.predict(X_test)\n",
    "y_pred_test"
   ]
  },
  {
   "cell_type": "code",
   "execution_count": 59,
   "metadata": {},
   "outputs": [
    {
     "data": {
      "text/html": [
       "<div>\n",
       "<style scoped>\n",
       "    .dataframe tbody tr th:only-of-type {\n",
       "        vertical-align: middle;\n",
       "    }\n",
       "\n",
       "    .dataframe tbody tr th {\n",
       "        vertical-align: top;\n",
       "    }\n",
       "\n",
       "    .dataframe thead th {\n",
       "        text-align: right;\n",
       "    }\n",
       "</style>\n",
       "<table border=\"1\" class=\"dataframe\">\n",
       "  <thead>\n",
       "    <tr style=\"text-align: right;\">\n",
       "      <th></th>\n",
       "      <th>Id</th>\n",
       "      <th>Price</th>\n",
       "    </tr>\n",
       "  </thead>\n",
       "  <tbody>\n",
       "    <tr>\n",
       "      <th>0</th>\n",
       "      <td>725</td>\n",
       "      <td>162062.590691</td>\n",
       "    </tr>\n",
       "    <tr>\n",
       "      <th>1</th>\n",
       "      <td>15856</td>\n",
       "      <td>202728.387870</td>\n",
       "    </tr>\n",
       "    <tr>\n",
       "      <th>2</th>\n",
       "      <td>5480</td>\n",
       "      <td>414319.110226</td>\n",
       "    </tr>\n",
       "    <tr>\n",
       "      <th>3</th>\n",
       "      <td>15664</td>\n",
       "      <td>365670.788436</td>\n",
       "    </tr>\n",
       "    <tr>\n",
       "      <th>4</th>\n",
       "      <td>14275</td>\n",
       "      <td>137179.723348</td>\n",
       "    </tr>\n",
       "  </tbody>\n",
       "</table>\n",
       "</div>"
      ],
      "text/plain": [
       "      Id          Price\n",
       "0    725  162062.590691\n",
       "1  15856  202728.387870\n",
       "2   5480  414319.110226\n",
       "3  15664  365670.788436\n",
       "4  14275  137179.723348"
      ]
     },
     "execution_count": 59,
     "metadata": {},
     "output_type": "execute_result"
    }
   ],
   "source": [
    "y_test['Price'] = y_pred_test\n",
    "y_test.head()"
   ]
  },
  {
   "cell_type": "code",
   "execution_count": 60,
   "metadata": {},
   "outputs": [],
   "source": [
    "y_test.to_csv('C:/Temp/files/GeekBrains/ds_python_libs/final/new_params/birch_predictions_gbr.csv', index = False)"
   ]
  }
 ],
 "metadata": {
  "kernelspec": {
   "display_name": "Python 3",
   "language": "python",
   "name": "python3"
  },
  "language_info": {
   "codemirror_mode": {
    "name": "ipython",
    "version": 3
   },
   "file_extension": ".py",
   "mimetype": "text/x-python",
   "name": "python",
   "nbconvert_exporter": "python",
   "pygments_lexer": "ipython3",
   "version": "3.7.6"
  }
 },
 "nbformat": 4,
 "nbformat_minor": 4
}
